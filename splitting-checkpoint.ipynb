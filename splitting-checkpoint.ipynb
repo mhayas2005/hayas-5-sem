{
 "cells": [
  {
   "cell_type": "code",
   "execution_count": 1,
   "id": "1c8dcba8-fc93-457d-82a8-e0ec8ae4894f",
   "metadata": {},
   "outputs": [],
   "source": [
    "import cv2\n",
    "import numpy as np"
   ]
  },
  {
   "cell_type": "code",
   "execution_count": 2,
   "id": "0dbc8ffb-d787-4190-a5ab-9dacf663c1b3",
   "metadata": {},
   "outputs": [
    {
     "data": {
      "text/plain": [
       "array([[[88, 87, 61],\n",
       "        [87, 86, 60],\n",
       "        [86, 85, 59],\n",
       "        ...,\n",
       "        [45, 45, 21],\n",
       "        [50, 46, 18],\n",
       "        [49, 40, 13]],\n",
       "\n",
       "       [[79, 78, 52],\n",
       "        [81, 80, 54],\n",
       "        [84, 83, 57],\n",
       "        ...,\n",
       "        [29, 27,  3],\n",
       "        [58, 54, 26],\n",
       "        [49, 40, 13]],\n",
       "\n",
       "       [[78, 76, 52],\n",
       "        [82, 80, 56],\n",
       "        [87, 86, 60],\n",
       "        ...,\n",
       "        [42, 38, 14],\n",
       "        [51, 44, 17],\n",
       "        [46, 35,  8]],\n",
       "\n",
       "       ...,\n",
       "\n",
       "       [[38, 31,  4],\n",
       "        [38, 31,  4],\n",
       "        [38, 31,  4],\n",
       "        ...,\n",
       "        [40, 33,  0],\n",
       "        [40, 33,  0],\n",
       "        [37, 29,  0]],\n",
       "\n",
       "       [[33, 28,  3],\n",
       "        [30, 25,  0],\n",
       "        [28, 23,  0],\n",
       "        ...,\n",
       "        [38, 31,  0],\n",
       "        [36, 29,  0],\n",
       "        [38, 30,  0]],\n",
       "\n",
       "       [[31, 25,  2],\n",
       "        [28, 22,  0],\n",
       "        [25, 19,  0],\n",
       "        ...,\n",
       "        [38, 31,  0],\n",
       "        [36, 29,  0],\n",
       "        [38, 30,  0]]], dtype=uint8)"
      ]
     },
     "execution_count": 2,
     "metadata": {},
     "output_type": "execute_result"
    }
   ],
   "source": [
    "img = cv2.imread(\"C:\\\\Users\\\\aedpu\\\\3 RD YEAR\\\\download.jpg\")\n",
    "img"
   ]
  },
  {
   "cell_type": "code",
   "execution_count": 3,
   "id": "dd49df64-1b58-45e6-ad5b-6bbbf2094184",
   "metadata": {},
   "outputs": [],
   "source": [
    "cv2.imshow(\"Image\",img)\n",
    "cv2.waitKey(0)\n",
    "cv2.destroyAllWindows()"
   ]
  },
  {
   "cell_type": "code",
   "execution_count": 4,
   "id": "bbe02faa-ce73-4602-a5c7-22720058ec40",
   "metadata": {},
   "outputs": [],
   "source": [
    "shp = img.shape"
   ]
  },
  {
   "cell_type": "code",
   "execution_count": 5,
   "id": "e8c84efb-56bb-40cb-8645-138bb4dee062",
   "metadata": {},
   "outputs": [
    {
     "data": {
      "text/plain": [
       "(170, 297, 3)"
      ]
     },
     "execution_count": 5,
     "metadata": {},
     "output_type": "execute_result"
    }
   ],
   "source": [
    "shp"
   ]
  },
  {
   "cell_type": "code",
   "execution_count": 6,
   "id": "c4491d2e-a1e3-40d0-9ca0-74e7de067dd4",
   "metadata": {},
   "outputs": [],
   "source": [
    "size = img.size"
   ]
  },
  {
   "cell_type": "code",
   "execution_count": 7,
   "id": "380e16c8-aae7-4044-b9a5-e49c5d4b4c8d",
   "metadata": {},
   "outputs": [
    {
     "data": {
      "text/plain": [
       "151470"
      ]
     },
     "execution_count": 7,
     "metadata": {},
     "output_type": "execute_result"
    }
   ],
   "source": [
    "size"
   ]
  },
  {
   "cell_type": "code",
   "execution_count": 8,
   "id": "2d777066-7487-46d2-a2f4-789174a871bf",
   "metadata": {},
   "outputs": [],
   "source": [
    "reshape_image = cv2.resize(img,(700,700))"
   ]
  },
  {
   "cell_type": "code",
   "execution_count": 9,
   "id": "8bc77d49-4b41-40e0-93da-cdd3ce2ea2f3",
   "metadata": {},
   "outputs": [
    {
     "data": {
      "text/plain": [
       "1470000"
      ]
     },
     "execution_count": 9,
     "metadata": {},
     "output_type": "execute_result"
    }
   ],
   "source": [
    "reshape_image.size"
   ]
  },
  {
   "cell_type": "code",
   "execution_count": 10,
   "id": "f673d7b8-7bef-4df8-a410-2a4a9ed8fdf2",
   "metadata": {},
   "outputs": [
    {
     "data": {
      "text/plain": [
       "(700, 700, 3)"
      ]
     },
     "execution_count": 10,
     "metadata": {},
     "output_type": "execute_result"
    }
   ],
   "source": [
    "reshape_image.shape"
   ]
  },
  {
   "cell_type": "code",
   "execution_count": 11,
   "id": "dc373897-b003-48e8-9080-eb733f7e73ef",
   "metadata": {},
   "outputs": [],
   "source": [
    "cv2.imshow(\"Image\",img)\n",
    "cv2.imshow(\"Reshipe Image\",reshape_image)\n",
    "cv2.waitKey(0)\n",
    "cv2.destroyAllWindows()"
   ]
  },
  {
   "cell_type": "code",
   "execution_count": 12,
   "id": "15c95236-61a0-4a1b-810b-210b3b87f2a9",
   "metadata": {},
   "outputs": [],
   "source": [
    "px = img[150,170]"
   ]
  },
  {
   "cell_type": "code",
   "execution_count": 13,
   "id": "5e26b59b-362f-4050-8694-cd26702c3ad5",
   "metadata": {},
   "outputs": [
    {
     "data": {
      "text/plain": [
       "array([[[88, 87, 61],\n",
       "        [87, 86, 60],\n",
       "        [86, 85, 59],\n",
       "        ...,\n",
       "        [45, 45, 21],\n",
       "        [50, 46, 18],\n",
       "        [49, 40, 13]],\n",
       "\n",
       "       [[79, 78, 52],\n",
       "        [81, 80, 54],\n",
       "        [84, 83, 57],\n",
       "        ...,\n",
       "        [29, 27,  3],\n",
       "        [58, 54, 26],\n",
       "        [49, 40, 13]],\n",
       "\n",
       "       [[78, 76, 52],\n",
       "        [82, 80, 56],\n",
       "        [87, 86, 60],\n",
       "        ...,\n",
       "        [42, 38, 14],\n",
       "        [51, 44, 17],\n",
       "        [46, 35,  8]],\n",
       "\n",
       "       ...,\n",
       "\n",
       "       [[38, 31,  4],\n",
       "        [38, 31,  4],\n",
       "        [38, 31,  4],\n",
       "        ...,\n",
       "        [40, 33,  0],\n",
       "        [40, 33,  0],\n",
       "        [37, 29,  0]],\n",
       "\n",
       "       [[33, 28,  3],\n",
       "        [30, 25,  0],\n",
       "        [28, 23,  0],\n",
       "        ...,\n",
       "        [38, 31,  0],\n",
       "        [36, 29,  0],\n",
       "        [38, 30,  0]],\n",
       "\n",
       "       [[31, 25,  2],\n",
       "        [28, 22,  0],\n",
       "        [25, 19,  0],\n",
       "        ...,\n",
       "        [38, 31,  0],\n",
       "        [36, 29,  0],\n",
       "        [38, 30,  0]]], dtype=uint8)"
      ]
     },
     "execution_count": 13,
     "metadata": {},
     "output_type": "execute_result"
    }
   ],
   "source": [
    "img"
   ]
  },
  {
   "cell_type": "code",
   "execution_count": 14,
   "id": "308c9a82-9643-4795-8bfd-8a52f68864b8",
   "metadata": {},
   "outputs": [],
   "source": [
    "img1 = cv2.imread(\"C:\\\\Users\\\\aedpu\\\\3 RD YEAR\\\\download.jpg\")"
   ]
  },
  {
   "cell_type": "code",
   "execution_count": 15,
   "id": "a2646557-eee0-4546-9e8a-fcb988d16aee",
   "metadata": {
    "scrolled": true
   },
   "outputs": [
    {
     "data": {
      "text/plain": [
       "array([[[88, 87, 61],\n",
       "        [87, 86, 60],\n",
       "        [86, 85, 59],\n",
       "        ...,\n",
       "        [45, 45, 21],\n",
       "        [50, 46, 18],\n",
       "        [49, 40, 13]],\n",
       "\n",
       "       [[79, 78, 52],\n",
       "        [81, 80, 54],\n",
       "        [84, 83, 57],\n",
       "        ...,\n",
       "        [29, 27,  3],\n",
       "        [58, 54, 26],\n",
       "        [49, 40, 13]],\n",
       "\n",
       "       [[78, 76, 52],\n",
       "        [82, 80, 56],\n",
       "        [87, 86, 60],\n",
       "        ...,\n",
       "        [42, 38, 14],\n",
       "        [51, 44, 17],\n",
       "        [46, 35,  8]],\n",
       "\n",
       "       ...,\n",
       "\n",
       "       [[38, 31,  4],\n",
       "        [38, 31,  4],\n",
       "        [38, 31,  4],\n",
       "        ...,\n",
       "        [40, 33,  0],\n",
       "        [40, 33,  0],\n",
       "        [37, 29,  0]],\n",
       "\n",
       "       [[33, 28,  3],\n",
       "        [30, 25,  0],\n",
       "        [28, 23,  0],\n",
       "        ...,\n",
       "        [38, 31,  0],\n",
       "        [36, 29,  0],\n",
       "        [38, 30,  0]],\n",
       "\n",
       "       [[31, 25,  2],\n",
       "        [28, 22,  0],\n",
       "        [25, 19,  0],\n",
       "        ...,\n",
       "        [38, 31,  0],\n",
       "        [36, 29,  0],\n",
       "        [38, 30,  0]]], dtype=uint8)"
      ]
     },
     "execution_count": 15,
     "metadata": {},
     "output_type": "execute_result"
    }
   ],
   "source": [
    "img"
   ]
  },
  {
   "cell_type": "code",
   "execution_count": 16,
   "id": "e678096b-c593-429a-ad38-5a038e611073",
   "metadata": {},
   "outputs": [],
   "source": [
    "\n",
    "r = cv2.selectROI(\"Select the area \" , img)\n",
    "\n",
    "cropped_image = img[int(r[1]):int(r[1]+r[3]),\n",
    "                    int(r[0]):int(r[0]+r[2])]\n",
    "cv2.imshow(\"cropped image\",cropped_image)\n",
    "cv2.waitKey(0)\n",
    "cv2.destroyAllWindows()"
   ]
  },
  {
   "cell_type": "code",
   "execution_count": 17,
   "id": "892896bf-44e4-4342-9d04-3f095f3ab664",
   "metadata": {},
   "outputs": [
    {
     "data": {
      "text/plain": [
       "array([[[109, 106,  91],\n",
       "        [105, 104,  84],\n",
       "        [105, 100,  79],\n",
       "        ...,\n",
       "        [ 48,  44,  15],\n",
       "        [ 49,  46,  18],\n",
       "        [ 51,  47,  22]],\n",
       "\n",
       "       [[116, 112,  93],\n",
       "        [103, 100,  79],\n",
       "        [114, 110,  85],\n",
       "        ...,\n",
       "        [ 47,  43,  18],\n",
       "        [ 49,  45,  20],\n",
       "        [ 51,  47,  23]],\n",
       "\n",
       "       [[115, 111,  83],\n",
       "        [119, 115,  86],\n",
       "        [118, 114,  85],\n",
       "        ...,\n",
       "        [ 47,  41,  22],\n",
       "        [ 45,  39,  20],\n",
       "        [ 45,  39,  20]],\n",
       "\n",
       "       ...,\n",
       "\n",
       "       [[125, 129,  94],\n",
       "        [111, 116,  77],\n",
       "        [104, 110,  69],\n",
       "        ...,\n",
       "        [ 71,  61,  27],\n",
       "        [ 70,  59,  29],\n",
       "        [ 68,  56,  28]],\n",
       "\n",
       "       [[128, 133, 102],\n",
       "        [116, 121,  89],\n",
       "        [106, 113,  76],\n",
       "        ...,\n",
       "        [ 71,  59,  25],\n",
       "        [ 69,  55,  26],\n",
       "        [ 64,  52,  24]],\n",
       "\n",
       "       [[127, 131, 106],\n",
       "        [119, 124,  95],\n",
       "        [116, 121,  89],\n",
       "        ...,\n",
       "        [ 70,  57,  25],\n",
       "        [ 65,  51,  22],\n",
       "        [ 59,  47,  19]]], dtype=uint8)"
      ]
     },
     "execution_count": 17,
     "metadata": {},
     "output_type": "execute_result"
    }
   ],
   "source": [
    "cropped_image"
   ]
  },
  {
   "cell_type": "code",
   "execution_count": 18,
   "id": "17da9589-6156-4f4d-93c7-af0a9fbb9b12",
   "metadata": {},
   "outputs": [
    {
     "data": {
      "text/plain": [
       "True"
      ]
     },
     "execution_count": 18,
     "metadata": {},
     "output_type": "execute_result"
    }
   ],
   "source": [
    "cv2.imwrite('cropped.png',cropped_image)"
   ]
  },
  {
   "cell_type": "code",
   "execution_count": 24,
   "id": "0c94b508-95df-4ff9-9287-82092d119068",
   "metadata": {},
   "outputs": [],
   "source": [
    "img = cv2.imread(\"C:\\\\Users\\\\aedpu\\\\3 RD YEAR\\\\download.jpg\")"
   ]
  },
  {
   "cell_type": "code",
   "execution_count": null,
   "id": "4c09e06e-1747-4a29-90e2-e73c8753d8ed",
   "metadata": {},
   "outputs": [],
   "source": [
    "b,g,r = cv2.split(img)\n",
    "\n",
    "cv2.imshow('image',img)\n",
    "cv2.imshow(\"blue\", b)\n",
    "cv2.imshow(\"green\", g)\n",
    "cv2.imshow(\"red\", r)\n",
    "cv2.waitKey(0)\n",
    "cv2.destroyAllWindows()"
   ]
  },
  {
   "cell_type": "code",
   "execution_count": 30,
   "id": "2398a700-b3d7-4f44-9192-c413d04d5e09",
   "metadata": {},
   "outputs": [],
   "source": [
    "mer = cv2.merge((r,g,b))\n",
    " \n",
    "cv2.imshow('merge',mer)\n",
    "cv2.waitKey(0)\n",
    "cv2.destroyAllWindows()"
   ]
  },
  {
   "cell_type": "code",
   "execution_count": 32,
   "id": "f4d73fc3-5fed-4c2b-92f9-c4f3f09ed955",
   "metadata": {},
   "outputs": [
    {
     "data": {
      "text/plain": [
       "True"
      ]
     },
     "execution_count": 32,
     "metadata": {},
     "output_type": "execute_result"
    }
   ],
   "source": [
    "cv2.imwrite('saveimage123.png',mer)"
   ]
  },
  {
   "cell_type": "code",
   "execution_count": null,
   "id": "b20d363f-bd29-4e3c-a7e3-66eb6e8da079",
   "metadata": {},
   "outputs": [],
   "source": []
  }
 ],
 "metadata": {
  "kernelspec": {
   "display_name": "Python 3 (ipykernel)",
   "language": "python",
   "name": "python3"
  },
  "language_info": {
   "codemirror_mode": {
    "name": "ipython",
    "version": 3
   },
   "file_extension": ".py",
   "mimetype": "text/x-python",
   "name": "python",
   "nbconvert_exporter": "python",
   "pygments_lexer": "ipython3",
   "version": "3.11.9"
  }
 },
 "nbformat": 4,
 "nbformat_minor": 5
}
