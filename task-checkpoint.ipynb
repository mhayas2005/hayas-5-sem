{
 "cells": [
  {
   "cell_type": "code",
   "execution_count": 1,
   "id": "54ef34bf-dce7-4de7-b2fe-dbe1fc1d50bd",
   "metadata": {},
   "outputs": [],
   "source": [
    "import cv2\n",
    "import numpy as np"
   ]
  },
  {
   "cell_type": "code",
   "execution_count": 2,
   "id": "be48ac5c-32d2-43cd-b08f-66a6ec2773e0",
   "metadata": {},
   "outputs": [],
   "source": [
    "img1 = cv2.imread(\"C:\\\\Users\\\\aedpu\\\\3 RD YEAR\\\\download.jpg\")\n",
    "img2 = cv2.imread(\"C:\\\\Users\\\\aedpu\\\\3 RD YEAR\\\\images.jpg\")\n",
    "\n",
    "cv2.imshow('Image1', img1)\n",
    "cv2.imshow('Image2', img2)\n",
    "cv2.waitKey(0)\n",
    "cv2.destroyAllWindows()"
   ]
  },
  {
   "cell_type": "code",
   "execution_count": 3,
   "id": "ab3d9403-af8d-448b-91b2-3ac41c2655e8",
   "metadata": {},
   "outputs": [],
   "source": [
    "img_1 = cv2.resize(img1,(500,500))\n",
    "img_2 = cv2.resize(img2,(500,500))\n"
   ]
  },
  {
   "cell_type": "code",
   "execution_count": 4,
   "id": "a5398a55-278d-4061-943a-0a46f272c2a1",
   "metadata": {},
   "outputs": [],
   "source": [
    "imadd = cv2.addWeighted(img_1,1,img_2,0.3,0)\n",
    "cv2.imshow(\"IMG_1\",img_1)\n",
    "cv2.imshow(\"IMG_2\",img_2)\n",
    "cv2.imshow(\"addimg\",imadd)\n",
    "cv2.waitKey(0)\n",
    "cv2.destroyAllWindows()"
   ]
  },
  {
   "cell_type": "code",
   "execution_count": 5,
   "id": "ec37238e-1d41-4d6b-aee1-1617d45e6cde",
   "metadata": {},
   "outputs": [],
   "source": [
    "bitwise_and = cv2.bitwise_and (img_1,img_2,mask=None)"
   ]
  },
  {
   "cell_type": "code",
   "execution_count": 6,
   "id": "1a11e98d-09c9-4f1d-bebe-011005cf8508",
   "metadata": {},
   "outputs": [],
   "source": [
    "bitwise_or = cv2.bitwise_or (img_1,img_2,mask=None)"
   ]
  },
  {
   "cell_type": "code",
   "execution_count": 7,
   "id": "5be244de-0f3d-40b9-b3f9-4ab92fd220ba",
   "metadata": {},
   "outputs": [],
   "source": [
    "bitwise_xor = cv2.bitwise_xor (img_1,img_2,mask=None)"
   ]
  },
  {
   "cell_type": "code",
   "execution_count": 8,
   "id": "4b565095-ab23-4685-a1ba-cdb1f6b36320",
   "metadata": {},
   "outputs": [],
   "source": [
    "cv2.imshow(\"bitwise_or\",bitwise_or)\n",
    "cv2.imshow(\"bitwise_xor \",bitwise_xor)\n",
    "cv2.imshow(\"bitwise_not\",bitwise_and)\n",
    "cv2.waitKey(0)\n",
    "cv2.destroyAllWindows()"
   ]
  },
  {
   "cell_type": "code",
   "execution_count": 9,
   "id": "b3b697fe-03a7-49e7-b3d7-04ca56ccf23f",
   "metadata": {},
   "outputs": [
    {
     "name": "stdout",
     "output_type": "stream",
     "text": [
      "(512, 512, 3)\n",
      "512\n",
      "512\n"
     ]
    }
   ],
   "source": [
    "img = cv2.resize(bitwise_xor,(512,512))\n",
    "shp=img.shape\n",
    "print(shp)\n",
    "height,width=img.shape[:2]\n",
    "print(height)\n",
    "print(width)"
   ]
  },
  {
   "cell_type": "code",
   "execution_count": 10,
   "id": "cbd361b6-a707-4d9f-a591-51e27326b87f",
   "metadata": {},
   "outputs": [],
   "source": [
    "cv2.imshow(\"IMG\",img)\n",
    "cv2.waitKey(0)\n",
    "cv2.destroyAllWindows()\n"
   ]
  },
  {
   "cell_type": "code",
   "execution_count": 11,
   "id": "962b0686-8bf7-4aec-81ca-cd8005600819",
   "metadata": {},
   "outputs": [
    {
     "name": "stdout",
     "output_type": "stream",
     "text": [
      "(256.0, 256.0)\n"
     ]
    }
   ],
   "source": [
    "center = (width/2,height/2)\n",
    "print(center)"
   ]
  },
  {
   "cell_type": "code",
   "execution_count": 12,
   "id": "97c5f14e-dbff-4cf8-aadc-d98b591b1ac6",
   "metadata": {},
   "outputs": [
    {
     "name": "stdout",
     "output_type": "stream",
     "text": [
      "[[-1.0000000e+00  1.2246468e-16  5.1200000e+02]\n",
      " [-1.2246468e-16 -1.0000000e+00  5.1200000e+02]]\n"
     ]
    }
   ],
   "source": [
    "rotate_matrix = cv2.getRotationMatrix2D(center= center, angle = 180 , scale = 1.0)\n",
    "print(rotate_matrix)"
   ]
  },
  {
   "cell_type": "code",
   "execution_count": 13,
   "id": "8d4c1ac2-f1b7-4787-b229-498b40acc650",
   "metadata": {},
   "outputs": [],
   "source": [
    "rotate_image = cv2.warpAffine(src=img, M=rotate_matrix, dsize=(width,height))\n",
    "cv2.imshow(\"ORG_Image\",img)\n",
    "cv2.waitKey(0)\n",
    "cv2.imshow(\"rotate_image\",rotate_image)\n",
    "cv2.waitKey(0)\n",
    "cv2.destroyAllWindows()"
   ]
  },
  {
   "cell_type": "code",
   "execution_count": null,
   "id": "71269446-506a-4e28-aa7b-bf178ca8becf",
   "metadata": {},
   "outputs": [],
   "source": []
  }
 ],
 "metadata": {
  "kernelspec": {
   "display_name": "Python 3 (ipykernel)",
   "language": "python",
   "name": "python3"
  },
  "language_info": {
   "codemirror_mode": {
    "name": "ipython",
    "version": 3
   },
   "file_extension": ".py",
   "mimetype": "text/x-python",
   "name": "python",
   "nbconvert_exporter": "python",
   "pygments_lexer": "ipython3",
   "version": "3.11.9"
  }
 },
 "nbformat": 4,
 "nbformat_minor": 5
}
