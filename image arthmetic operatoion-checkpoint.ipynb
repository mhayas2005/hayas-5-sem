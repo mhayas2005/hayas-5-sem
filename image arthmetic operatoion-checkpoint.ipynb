{
 "cells": [
  {
   "cell_type": "code",
   "execution_count": 1,
   "id": "15964252-9b52-4306-9091-7cae8d40ee82",
   "metadata": {},
   "outputs": [],
   "source": [
    "import cv2\n",
    "import numpy as np"
   ]
  },
  {
   "cell_type": "code",
   "execution_count": 2,
   "id": "111b0248-ae3a-4544-b563-5ca44a14ae11",
   "metadata": {},
   "outputs": [],
   "source": [
    "img1 = cv2.imread(\"C:\\\\Users\\\\aedpu\\\\3 RD YEAR\\\\download.jpg\")\n",
    "img2 = cv2.imread(\"C:\\\\Users\\\\aedpu\\\\3 RD YEAR\\\\images.jpg\")\n",
    "\n",
    "cv2.imshow('Image1', img1)\n",
    "cv2.imshow('Image2', img2)\n",
    "cv2.waitKey(0)\n",
    "cv2.destroyAllWindows()"
   ]
  },
  {
   "cell_type": "code",
   "execution_count": 3,
   "id": "6a28a7f6-ea1a-41ad-a788-e8b16ec4c810",
   "metadata": {},
   "outputs": [
    {
     "data": {
      "text/plain": [
       "(225, 225, 3)"
      ]
     },
     "execution_count": 3,
     "metadata": {},
     "output_type": "execute_result"
    }
   ],
   "source": [
    "img1.shape"
   ]
  },
  {
   "cell_type": "code",
   "execution_count": 4,
   "id": "499eb69d-7088-4a08-911d-0d4594a363ba",
   "metadata": {},
   "outputs": [
    {
     "data": {
      "text/plain": [
       "(194, 259, 3)"
      ]
     },
     "execution_count": 4,
     "metadata": {},
     "output_type": "execute_result"
    }
   ],
   "source": [
    "img2.shape"
   ]
  },
  {
   "cell_type": "code",
   "execution_count": 5,
   "id": "3d027120-c2be-4fb2-8209-76d967ad8305",
   "metadata": {},
   "outputs": [],
   "source": [
    "img_1 = cv2.resize(img1, (500, 500))\n",
    "img_2 = cv2.resize(img2, (500, 500))"
   ]
  },
  {
   "cell_type": "code",
   "execution_count": 6,
   "id": "edb610bb-4a6f-4191-b88a-ec6fa22f637c",
   "metadata": {},
   "outputs": [
    {
     "data": {
      "text/plain": [
       "(500, 500, 3)"
      ]
     },
     "execution_count": 6,
     "metadata": {},
     "output_type": "execute_result"
    }
   ],
   "source": [
    "img_1.shape"
   ]
  },
  {
   "cell_type": "code",
   "execution_count": 7,
   "id": "f095ddbe-c8d7-4d14-96ec-7c472640b319",
   "metadata": {},
   "outputs": [
    {
     "data": {
      "text/plain": [
       "(500, 500, 3)"
      ]
     },
     "execution_count": 7,
     "metadata": {},
     "output_type": "execute_result"
    }
   ],
   "source": [
    "img_2.shape"
   ]
  },
  {
   "cell_type": "markdown",
   "id": "4799f92e-e0a2-4c76-bd7f-dca0671660eb",
   "metadata": {},
   "source": [
    "additon"
   ]
  },
  {
   "cell_type": "code",
   "execution_count": 8,
   "id": "d2c6d580-c700-48c3-89a5-a1f207689046",
   "metadata": {},
   "outputs": [],
   "source": [
    "added_image = cv2.add(img_1,img_2)\n",
    "cv2.imshow('added_image', added_image)\n",
    "cv2.waitKey(0)\n",
    "cv2.destroyAllWindows()"
   ]
  },
  {
   "cell_type": "markdown",
   "id": "85e6c2f7-ea65-4cd9-8d4e-efbfda549281",
   "metadata": {},
   "source": [
    "image blending"
   ]
  },
  {
   "cell_type": "code",
   "execution_count": 9,
   "id": "418c7176-56b8-46b7-a0fb-d5bddc3637db",
   "metadata": {},
   "outputs": [],
   "source": [
    "imAdd = cv2.addWeighted(img_1,0.3,img_2,0.7,0)\n",
    "cv2.imshow('imAdd', imAdd)\n",
    "cv2.waitKey(0)\n",
    "cv2.destroyAllWindows()"
   ]
  },
  {
   "cell_type": "code",
   "execution_count": 10,
   "id": "d5c027d1-dc6c-4a18-9180-67e5b63fa072",
   "metadata": {},
   "outputs": [],
   "source": [
    "imAdd = cv2.addWeighted(img_1,0.3,img_2,0.7,0)\n",
    "cv2.imshow('image1', img1)\n",
    "cv2.imshow('image2', img2)\n",
    "cv2.imshow('imAdd', imAdd)\n",
    "cv2.waitKey(0)\n",
    "cv2.destroyAllWindows()"
   ]
  },
  {
   "cell_type": "markdown",
   "id": "ee8cca0a-7326-4600-9362-8b0b5f27834d",
   "metadata": {},
   "source": [
    "subtraction"
   ]
  },
  {
   "cell_type": "code",
   "execution_count": 11,
   "id": "466a8302-bcbb-44c8-a504-5a86b04a5178",
   "metadata": {},
   "outputs": [],
   "source": [
    "subtracted_image = cv2.subtract(img_1,img_2)\n",
    "\n",
    "cv2.imshow('Image3', img1)\n",
    "cv2.imshow('Image4', img2)\n",
    "cv2.imshow('Subtracted Image', subtracted_image)\n",
    "cv2.waitKey(0)\n",
    "cv2.destroyAllWindows()"
   ]
  },
  {
   "cell_type": "markdown",
   "id": "88569260-3d2e-4b60-9641-729c7791cea5",
   "metadata": {},
   "source": [
    "multiplication and division"
   ]
  },
  {
   "cell_type": "code",
   "execution_count": 12,
   "id": "956bbe4a-e848-46b7-87ff-23b537ea35c0",
   "metadata": {},
   "outputs": [],
   "source": [
    "multiplied_image = cv2.multiply(img_1, np.array([2]))\n",
    "\n",
    "divided_image = cv2.divide(img_1, np.array([1]))\n",
    "\n",
    "cv2.imshow('image',img1)\n",
    "cv2.imshow('Multiplied Image', multiplied_image)\n",
    "cv2.imshow('Divided Image', divided_image)\n",
    "cv2.waitKey(0)\n",
    "cv2.destroyAllWindows()"
   ]
  },
  {
   "cell_type": "markdown",
   "id": "8b2fb57c-b97e-49d6-943e-4fb8c8934210",
   "metadata": {},
   "source": [
    "bitwise operations"
   ]
  },
  {
   "cell_type": "code",
   "execution_count": 13,
   "id": "5d0dfca8-86d3-41f9-b2d9-80bd44975bf7",
   "metadata": {},
   "outputs": [],
   "source": [
    "image1 = np.zeros((300, 300, 3), dtype=np.uint8)\n",
    "image2 = np.zeros((300, 300, 3), dtype=np.uint8)\n",
    "\n",
    "cv2.rectangle(image1, (50, 50), (250, 250), (255, 255, 255), -1)\n",
    "\n",
    "cv2.circle(image2, (150, 150), 100, (255, 255, 255), -1)\n",
    "\n",
    "cv2.imshow('image1', image1)\n",
    "cv2.imshow('image2', image2)\n",
    "cv2.waitKey(0)\n",
    "cv2.destroyAllWindows()"
   ]
  },
  {
   "cell_type": "code",
   "execution_count": 14,
   "id": "aac0806d-bb99-4e63-be09-88957c987d7b",
   "metadata": {},
   "outputs": [],
   "source": [
    "bitwise_and = cv2.bitwise_and(image1, image2,mask=None)"
   ]
  },
  {
   "cell_type": "code",
   "execution_count": 15,
   "id": "06b03371-5278-4217-9045-65168570c791",
   "metadata": {},
   "outputs": [],
   "source": [
    "bitwise_or = cv2.bitwise_or(image1, image2,mask=None)"
   ]
  },
  {
   "cell_type": "code",
   "execution_count": 16,
   "id": "44081736-3a03-4794-b705-3a760613c959",
   "metadata": {},
   "outputs": [],
   "source": [
    "bitwise_xor = cv2.bitwise_xor(image1, image2,mask=None)"
   ]
  },
  {
   "cell_type": "code",
   "execution_count": 17,
   "id": "5ba94706-9d35-47ec-8e55-e9aa3c473a7d",
   "metadata": {},
   "outputs": [],
   "source": [
    "bitwise_not = cv2.bitwise_not(image1,mask=None)"
   ]
  },
  {
   "cell_type": "code",
   "execution_count": 18,
   "id": "9aaab5be-a683-40e3-90bf-e0f5f37db633",
   "metadata": {},
   "outputs": [],
   "source": [
    "cv2.imshow('image1', image1)\n",
    "cv2.imshow('image2', image2)\n",
    "cv2.imshow('Bitwise AND', bitwise_and)\n",
    "cv2.imshow('Bitwise OR', bitwise_or)\n",
    "cv2.imshow('Bitwise XOR', bitwise_xor)\n",
    "cv2.imshow('Bitwise NOT', bitwise_not)\n",
    "cv2.waitKey(0)\n",
    "cv2.destroyAllWindows()"
   ]
  },
  {
   "cell_type": "code",
   "execution_count": null,
   "id": "32a2c876-a1d7-4590-a0b4-5b944f584c43",
   "metadata": {},
   "outputs": [],
   "source": [
    "\n"
   ]
  }
 ],
 "metadata": {
  "kernelspec": {
   "display_name": "Python 3 (ipykernel)",
   "language": "python",
   "name": "python3"
  },
  "language_info": {
   "codemirror_mode": {
    "name": "ipython",
    "version": 3
   },
   "file_extension": ".py",
   "mimetype": "text/x-python",
   "name": "python",
   "nbconvert_exporter": "python",
   "pygments_lexer": "ipython3",
   "version": "3.11.9"
  }
 },
 "nbformat": 4,
 "nbformat_minor": 5
}
