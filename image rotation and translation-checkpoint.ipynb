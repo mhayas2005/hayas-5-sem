{
 "cells": [
  {
   "cell_type": "code",
   "execution_count": 1,
   "id": "fc4e4aaf-6204-4318-97fa-7d8d2e5b3d67",
   "metadata": {},
   "outputs": [],
   "source": [
    "import cv2\n",
    "import numpy as np"
   ]
  },
  {
   "cell_type": "code",
   "execution_count": 2,
   "id": "44e9ac32-7a9c-4f7e-bc90-4e2734d32589",
   "metadata": {},
   "outputs": [
    {
     "name": "stdout",
     "output_type": "stream",
     "text": [
      "(181, 278, 3)\n",
      "181\n",
      "278\n"
     ]
    }
   ],
   "source": [
    "image = cv2.imread(\"C:\\\\Users\\\\aedpu\\\\3 RD YEAR\\\\hy.jpg\")\n",
    "shp=image.shape\n",
    "print(shp)\n",
    "height,width=image.shape[:2]\n",
    "print(height)\n",
    "print(width)"
   ]
  },
  {
   "cell_type": "code",
   "execution_count": 3,
   "id": "ab8f6ea3-7b05-49a2-a038-74e85cfeb2e9",
   "metadata": {},
   "outputs": [],
   "source": [
    "cv2.imshow(' Original_image',image)\n",
    "cv2.waitKey(0)\n",
    "cv2.destroyAllWindows()"
   ]
  },
  {
   "cell_type": "code",
   "execution_count": 4,
   "id": "0ffb1fe3-a033-4e51-b07d-b70a6fb9213a",
   "metadata": {},
   "outputs": [
    {
     "name": "stdout",
     "output_type": "stream",
     "text": [
      "(90.5, 139.0)\n"
     ]
    }
   ],
   "source": [
    "center = (height/2,width/2)\n",
    "print(center)\n"
   ]
  },
  {
   "cell_type": "code",
   "execution_count": 9,
   "id": "0736ec4b-4233-4e15-bce8-183aa3e99459",
   "metadata": {},
   "outputs": [
    {
     "name": "stdout",
     "output_type": "stream",
     "text": [
      "[[ 6.123234e-17  1.000000e+00 -4.850000e+01]\n",
      " [-1.000000e+00  6.123234e-17  2.295000e+02]]\n"
     ]
    }
   ],
   "source": [
    "rotate_matrix = cv2.getRotationMatrix2D(center=center, angle=90, scale=1.0)\n",
    "print(rotate_matrix)"
   ]
  },
  {
   "cell_type": "code",
   "execution_count": 10,
   "id": "8d170dab-48d5-4291-9942-7b7d9ebf3a8b",
   "metadata": {},
   "outputs": [],
   "source": [
    "rotated_image = cv2.warpAffine(src=image, M=rotate_matrix, dsize=(width, height))\n",
    "\n",
    "cv2.imshow('Original image', image)\n",
    "cv2.waitKey(0)\n",
    "cv2.imshow('Rotated image', rotated_image)\n",
    "cv2.waitKey(0)\n",
    "cv2.destroyAllWindows()"
   ]
  },
  {
   "cell_type": "code",
   "execution_count": 12,
   "id": "a1a453b1-6802-49b8-a193-f2b44ec7b142",
   "metadata": {},
   "outputs": [
    {
     "name": "stdout",
     "output_type": "stream",
     "text": [
      "100.0\n",
      "50.0\n"
     ]
    }
   ],
   "source": [
    "tx, ty = 100.0,50.0\n",
    "print(tx)\n",
    "print(ty)"
   ]
  },
  {
   "cell_type": "code",
   "execution_count": 14,
   "id": "bd99d8d5-8367-4b63-b798-21faa6398552",
   "metadata": {},
   "outputs": [],
   "source": [
    "translation_matrix = np.array([[1, 0, tx],[0, 1, ty]])"
   ]
  },
  {
   "cell_type": "code",
   "execution_count": 15,
   "id": "2a62efc4-c277-4f5b-bd7f-436881c2b7fa",
   "metadata": {},
   "outputs": [],
   "source": [
    "translated_image = cv2.warpAffine(src=image, M=translation_matrix, dsize=(width, height))"
   ]
  },
  {
   "cell_type": "code",
   "execution_count": 17,
   "id": "6ba57c29-facb-4150-9e23-26caecddbf48",
   "metadata": {},
   "outputs": [],
   "source": [
    "cv2.imshow(' trans_image', translated_image)\n",
    "cv2.waitKey(0)\n",
    "cv2.destroyAllWindows()"
   ]
  },
  {
   "cell_type": "code",
   "execution_count": null,
   "id": "bdf6a3a5-8d2d-4849-a46d-7f3e0e843dd3",
   "metadata": {},
   "outputs": [],
   "source": []
  }
 ],
 "metadata": {
  "kernelspec": {
   "display_name": "Python 3 (ipykernel)",
   "language": "python",
   "name": "python3"
  },
  "language_info": {
   "codemirror_mode": {
    "name": "ipython",
    "version": 3
   },
   "file_extension": ".py",
   "mimetype": "text/x-python",
   "name": "python",
   "nbconvert_exporter": "python",
   "pygments_lexer": "ipython3",
   "version": "3.11.9"
  }
 },
 "nbformat": 4,
 "nbformat_minor": 5
}
