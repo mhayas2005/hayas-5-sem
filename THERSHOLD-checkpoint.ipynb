{
 "cells": [
  {
   "cell_type": "code",
   "execution_count": 1,
   "id": "4dda01da-21fa-4814-af85-54a8c4ea35aa",
   "metadata": {},
   "outputs": [],
   "source": [
    "import cv2\n",
    "import numpy as np"
   ]
  },
  {
   "cell_type": "code",
   "execution_count": 2,
   "id": "7dd7c11d-751f-4b8e-af68-7c4316c3d5f8",
   "metadata": {},
   "outputs": [],
   "source": [
    "img = cv2.imread(\"C:\\\\Users\\\\aedpu\\\\3 RD YEAR\\\\dark image.jpg\")"
   ]
  },
  {
   "cell_type": "code",
   "execution_count": 3,
   "id": "62a61af6-53d6-4f01-b6be-2e7b63a0caa8",
   "metadata": {},
   "outputs": [
    {
     "name": "stdout",
     "output_type": "stream",
     "text": [
      "(183, 275, 3)\n"
     ]
    }
   ],
   "source": [
    "sp=img.shape\n",
    "print(sp)"
   ]
  },
  {
   "cell_type": "markdown",
   "id": "f6b8b8f8-a5e4-4a67-939a-3df5aa581b23",
   "metadata": {},
   "source": [
    "load and image"
   ]
  },
  {
   "cell_type": "code",
   "execution_count": 4,
   "id": "49b04519-85c9-44c8-ab00-fb86636b381d",
   "metadata": {},
   "outputs": [],
   "source": [
    "GREY=cv2.cvtColor(img,cv2.COLOR_BGR2GRAY)"
   ]
  },
  {
   "cell_type": "code",
   "execution_count": 5,
   "id": "7b18956c-00f1-4f6e-8fa5-d7ee5cb73996",
   "metadata": {},
   "outputs": [],
   "source": [
    "cv2.imshow(\"original image\",img)\n",
    "cv2.imshow(\"grey\",GREY)\n",
    "cv2.waitKey(0)\n",
    "cv2.destroyAllWindows()"
   ]
  },
  {
   "cell_type": "markdown",
   "id": "e890c014-be08-432d-b554-ef5e7c0df9f4",
   "metadata": {},
   "source": [
    "binary thershold"
   ]
  },
  {
   "cell_type": "code",
   "execution_count": 6,
   "id": "fcb66821-3844-4e48-ab59-55b51b164182",
   "metadata": {},
   "outputs": [],
   "source": [
    "ret,thresh1 = cv2.threshold(GREY,200,225,cv2.THRESH_BINARY)"
   ]
  },
  {
   "cell_type": "markdown",
   "id": "5df0fefa-db69-463d-a3e4-80c2ec4980c0",
   "metadata": {},
   "source": [
    "binary inverse thresholding"
   ]
  },
  {
   "cell_type": "code",
   "execution_count": 7,
   "id": "14e35347-86d0-4442-9eb8-03d5daca4bdb",
   "metadata": {},
   "outputs": [],
   "source": [
    "ret,thresh2 = cv2.threshold(GREY,127,225,cv2.THRESH_BINARY_INV)"
   ]
  },
  {
   "cell_type": "markdown",
   "id": "d9243d8e-07f1-46cb-a85b-0082047e8631",
   "metadata": {},
   "source": [
    "truncation thresholding"
   ]
  },
  {
   "cell_type": "code",
   "execution_count": 9,
   "id": "55d3338b-a59f-44ba-a7e7-fb9c689a8da5",
   "metadata": {},
   "outputs": [],
   "source": [
    "ret,thresh3 = cv2.threshold(GREY,127,225,cv2.THRESH_TRUNC)"
   ]
  },
  {
   "cell_type": "markdown",
   "id": "ef59faa6-524a-49c8-ac53-e0149388afe3",
   "metadata": {},
   "source": [
    "To zero thresholding"
   ]
  },
  {
   "cell_type": "code",
   "execution_count": 10,
   "id": "35c93229-ad1f-4dab-9c1b-4d7a4db0a5b5",
   "metadata": {},
   "outputs": [],
   "source": [
    "ret,thresh4 = cv2.threshold(GREY,127,225,cv2.THRESH_TOZERO)"
   ]
  },
  {
   "cell_type": "markdown",
   "id": "8d4f818b-5489-4c63-9c34-53d0b44b0e66",
   "metadata": {},
   "source": [
    "TO ZERO INVERSE THRESHOLDNG"
   ]
  },
  {
   "cell_type": "code",
   "execution_count": 12,
   "id": "4f780548-84bd-46e5-960f-acb99f000e73",
   "metadata": {},
   "outputs": [],
   "source": [
    "ret,thresh5 = cv2.threshold(GREY,127,225,cv2.THRESH_TOZERO_INV)"
   ]
  },
  {
   "cell_type": "markdown",
   "id": "413709fc-7d4a-4ad2-b9f5-134751eb8f80",
   "metadata": {},
   "source": [
    "DISPLAY RESULTS"
   ]
  },
  {
   "cell_type": "code",
   "execution_count": 14,
   "id": "eb88f0fb-361c-4ec7-b069-dc0a8ee4b9af",
   "metadata": {},
   "outputs": [],
   "source": [
    "cv2.imshow(\"grey\",GREY)\n",
    "cv2.imshow(\"Binary\",thresh1)\n",
    "cv2.imshow(\"Binary_Inv\",thresh2)\n",
    "cv2.imshow(\"Trunc\",thresh3)\n",
    "cv2.imshow(\"To_Zero\",thresh4)\n",
    "cv2.imshow(\"To_Zero_Inv\",thresh5)\n",
    "cv2.waitKey(0)\n",
    "cv2.destroyAllWindows()"
   ]
  },
  {
   "cell_type": "markdown",
   "id": "200fbaca-2ad6-4abb-a314-fbbd8cb25447",
   "metadata": {},
   "source": [
    "Adaptive thresholding"
   ]
  },
  {
   "cell_type": "code",
   "execution_count": 16,
   "id": "4820dde6-7770-4d2f-ba68-5a5a50faa132",
   "metadata": {},
   "outputs": [],
   "source": [
    "img1 = cv2.medianBlur(GREY,5)"
   ]
  },
  {
   "cell_type": "markdown",
   "id": "1e12d548-c357-426e-8b1e-564572ca885c",
   "metadata": {},
   "source": [
    "syntax"
   ]
  },
  {
   "cell_type": "code",
   "execution_count": 19,
   "id": "3c589907-7ec4-4890-9924-8998c74c686a",
   "metadata": {},
   "outputs": [],
   "source": [
    "th = cv2.adaptiveThreshold(img1,255,cv2.ADAPTIVE_THRESH_MEAN_C,cv2.THRESH_BINARY,15,4)"
   ]
  },
  {
   "cell_type": "code",
   "execution_count": 20,
   "id": "f3888b9a-e97a-40b1-b6ca-4664fe7536de",
   "metadata": {},
   "outputs": [],
   "source": [
    "cv2.imshow(\"Blur image\",img1)\n",
    "cv2.imshow(\"MeanC\",th)\n",
    "cv2.waitKey(0)\n",
    "cv2.destroyAllWindows()"
   ]
  },
  {
   "cell_type": "code",
   "execution_count": 21,
   "id": "c6435e03-b357-41f9-9f4d-70370c0e590b",
   "metadata": {},
   "outputs": [],
   "source": [
    "th1 = cv2.adaptiveThreshold(img1,255,cv2.ADAPTIVE_THRESH_GAUSSIAN_C,cv2.THRESH_BINARY,11,2)"
   ]
  },
  {
   "cell_type": "code",
   "execution_count": 22,
   "id": "4779048a-2651-458f-8df9-e1ffddb3b351",
   "metadata": {},
   "outputs": [],
   "source": [
    "cv2.imshow(\"Blur image\",img1)\n",
    "cv2.imshow(\"GAUSSIAN_C\",th1)\n",
    "cv2.waitKey(0)\n",
    "cv2.destroyAllWindows()"
   ]
  },
  {
   "cell_type": "code",
   "execution_count": null,
   "id": "7e144fd5-d880-4f47-9ac7-7c04c415da96",
   "metadata": {},
   "outputs": [],
   "source": []
  },
  {
   "cell_type": "code",
   "execution_count": null,
   "id": "78fd3cbf-3cdf-4354-b4a0-96be2ba9919c",
   "metadata": {},
   "outputs": [],
   "source": []
  },
  {
   "cell_type": "code",
   "execution_count": null,
   "id": "d39817be-d7fe-4587-8e51-9f4d9ad4deea",
   "metadata": {},
   "outputs": [],
   "source": []
  }
 ],
 "metadata": {
  "kernelspec": {
   "display_name": "Python 3 (ipykernel)",
   "language": "python",
   "name": "python3"
  },
  "language_info": {
   "codemirror_mode": {
    "name": "ipython",
    "version": 3
   },
   "file_extension": ".py",
   "mimetype": "text/x-python",
   "name": "python",
   "nbconvert_exporter": "python",
   "pygments_lexer": "ipython3",
   "version": "3.11.9"
  }
 },
 "nbformat": 4,
 "nbformat_minor": 5
}
